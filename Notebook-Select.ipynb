{
    "metadata": {
        "kernelspec": {
            "name": "SQL",
            "display_name": "SQL",
            "language": "sql"
        },
        "language_info": {
            "name": "sql",
            "version": ""
        }
    },
    "nbformat_minor": 2,
    "nbformat": 4,
    "cells": [
        {
            "cell_type": "code",
            "source": [
                "SELECT TOP (1000) [StudentID]\n",
                "      ,[FirstName]\n",
                "      ,[LastName]\n",
                "      ,[GenderID]\n",
                "      ,[BirthDate]\n",
                "      ,[EmailAddress]\n",
                "      ,[Address]\n",
                "  FROM [SchoolDB].[dbo].[Student]\n",
                "\n",
                "\n",
                "  SELECT TOP (1000) [StudentCourseID]\n",
                "      ,[StudentID]\n",
                "      ,[CourseCode]\n",
                "      ,[Semester]\n",
                "      \n",
                "  FROM [SchoolDB].[dbo].[StudentCourse]\n",
                "\n",
                "  SELECT * FROM Student\n",
                "\n",
                "  SELECT * FROM StudentCourse\n",
                "\n",
                "  SELECT * From Student inner JOIN StudentCourse on Student.StudentID = StudentCourse.StudentID order by Student.FirstName"
            ],
            "metadata": {
                "azdata_cell_guid": "979378e5-c84a-4ab5-bc1b-e99653503899",
                "language": "sql"
            },
            "outputs": [],
            "execution_count": null
        }
    ]
}