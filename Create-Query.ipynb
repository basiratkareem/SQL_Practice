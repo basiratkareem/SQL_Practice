{
    "metadata": {
        "kernelspec": {
            "name": "SQL",
            "display_name": "SQL",
            "language": "sql"
        },
        "language_info": {
            "name": "sql",
            "version": ""
        }
    },
    "nbformat_minor": 2,
    "nbformat": 4,
    "cells": [
        {
            "cell_type": "code",
            "source": [
                "CREATE TABLE Student (StudentID INT PRIMARY KEY, FirstName nvarchar(50), LastName nvarchar(50),\n",
                "GenderID INT, BirthDate DATE, EmailAddress NVARCHAR(150), Address NVARCHAR(150))\n",
                "\n",
                "CREATE TABLE Gender (GenderID INT PRIMARY KEY, Name NVARCHAR(50))\n",
                "\n",
                "CREATE TABLE Course (CourseCode NVARCHAR(50), Title nvarchar(50))\n",
                "\n",
                "CREATE TABLE StudentCourse (StudentCourseID INT PRIMARY KEY, StudentID INT, CourseCode NVARCHAR(50), Semester nvarchar(20))"
            ],
            "metadata": {
                "azdata_cell_guid": "f63f3652-864e-4d7f-9363-918aac0e6a96",
                "language": "sql"
            },
            "outputs": [],
            "execution_count": null
        }
    ]
}